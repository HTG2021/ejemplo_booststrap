{
  "nbformat": 4,
  "nbformat_minor": 0,
  "metadata": {
    "colab": {
      "provenance": [],
      "authorship_tag": "ABX9TyNze274XL7GO8/pRUhzJzGU",
      "include_colab_link": true
    },
    "kernelspec": {
      "name": "python3",
      "display_name": "Python 3"
    },
    "language_info": {
      "name": "python"
    }
  },
  "cells": [
    {
      "cell_type": "markdown",
      "metadata": {
        "id": "view-in-github",
        "colab_type": "text"
      },
      "source": [
        "<a href=\"https://colab.research.google.com/github/HTG2021/ejemplo_booststrap/blob/main/teachablemachine_demo.ipynb\" target=\"_parent\"><img src=\"https://colab.research.google.com/assets/colab-badge.svg\" alt=\"Open In Colab\"/></a>"
      ]
    },
    {
      "cell_type": "code",
      "execution_count": 7,
      "metadata": {
        "colab": {
          "base_uri": "https://localhost:8080/"
        },
        "id": "7KymM231bUZb",
        "outputId": "f6429b7f-5bc9-48ce-c5bf-3fbc1f288996"
      },
      "outputs": [
        {
          "output_type": "stream",
          "name": "stderr",
          "text": [
            "/usr/local/lib/python3.10/dist-packages/keras/src/layers/core/dense.py:87: UserWarning: Do not pass an `input_shape`/`input_dim` argument to a layer. When using Sequential models, prefer using an `Input(shape)` object as the first layer in the model instead.\n",
            "  super().__init__(activity_regularizer=activity_regularizer, **kwargs)\n"
          ]
        },
        {
          "output_type": "stream",
          "name": "stdout",
          "text": [
            "\u001b[1m1/1\u001b[0m \u001b[32m━━━━━━━━━━━━━━━━━━━━\u001b[0m\u001b[37m\u001b[0m \u001b[1m2s\u001b[0m 2s/step\n",
            "Class: Reloj\n",
            "Confidence Score: 0.9824735\n"
          ]
        }
      ],
      "source": [
        "from keras.models import load_model  # TensorFlow is required for Keras to work\n",
        "#from tensorflow.keras.models import load_model\n",
        "from PIL import Image, ImageOps  # Install pillow instead of PIL\n",
        "import numpy as np\n",
        "\n",
        "# Disable scientific notation for clarity\n",
        "np.set_printoptions(suppress=True)\n",
        "\n",
        "# Load the model\n",
        "model = load_model(\"keras_Model.h5\", compile=False)\n",
        "\n",
        "# Load the labels\n",
        "class_names = open(\"labels.txt\", \"r\").readlines()\n",
        "\n",
        "# Create the array of the right shape to feed into the keras model\n",
        "# The 'length' or number of images you can put into the array is\n",
        "# determined by the first position in the shape tuple, in this case 1\n",
        "data = np.ndarray(shape=(1, 224, 224, 3), dtype=np.float32)\n",
        "\n",
        "# Replace this with the path to your image\n",
        "image = Image.open(\"reloj-test.jpg\").convert(\"RGB\")\n",
        "\n",
        "# resizing the image to be at least 224x224 and then cropping from the center\n",
        "size = (224, 224)\n",
        "image = ImageOps.fit(image, size, Image.Resampling.LANCZOS)\n",
        "\n",
        "# turn the image into a numpy array\n",
        "image_array = np.asarray(image)\n",
        "\n",
        "# Normalize the image\n",
        "normalized_image_array = (image_array.astype(np.float32) / 127.5) - 1\n",
        "\n",
        "# Load the image into the array\n",
        "data[0] = normalized_image_array\n",
        "\n",
        "# Predicts the model\n",
        "prediction = model.predict(data)\n",
        "index = np.argmax(prediction)\n",
        "class_name = class_names[index]\n",
        "confidence_score = prediction[0][index]\n",
        "\n",
        "# Print prediction and confidence score\n",
        "print(\"Class:\", class_name[2:], end=\"\")\n",
        "print(\"Confidence Score:\", confidence_score)\n"
      ]
    },
    {
      "cell_type": "markdown",
      "source": [
        "Convertir archivo modelo h5"
      ],
      "metadata": {
        "id": "LqpQIfdFxgyY"
      }
    },
    {
      "cell_type": "code",
      "source": [
        "import h5py\n",
        "f = h5py.File(\"keras_Model.h5\", mode=\"r+\")\n",
        "model_config_string = f.attrs.get(\"model_config\")\n",
        "if model_config_string.find('\"groups\": 1,') != -1:\n",
        "    model_config_string = model_config_string.replace('\"groups\": 1,', '')\n",
        "    f.attrs.modify('model_config', model_config_string)\n",
        "    f.flush()\n",
        "    model_config_string = f.attrs.get(\"model_config\")\n",
        "    assert model_config_string.find('\"groups\": 1,') == -1\n",
        "\n",
        "f.close()"
      ],
      "metadata": {
        "id": "nWV3MLAAw4jV"
      },
      "execution_count": 6,
      "outputs": []
    },
    {
      "cell_type": "markdown",
      "source": [
        "Subir archivo o usar webcam con el modelo"
      ],
      "metadata": {
        "id": "M_sPiuugxk5m"
      }
    },
    {
      "cell_type": "code",
      "source": [
        "from tensorflow.keras.models import load_model\n",
        "from PIL import Image, ImageOps\n",
        "import numpy as np\n",
        "import cv2\n",
        "from tkinter import Tk, filedialog\n",
        "\n",
        "# Desactivar notación científica para mayor claridad\n",
        "np.set_printoptions(suppress=True)\n",
        "\n",
        "# Cargar el modelo\n",
        "model = load_model(\"keras_Model.h5\", compile=False)\n",
        "\n",
        "# Cargar las etiquetas\n",
        "class_names = open(\"labels.txt\", \"r\").readlines()\n",
        "\n",
        "# Crear el array con la forma correcta para alimentar al modelo\n",
        "data = np.ndarray(shape=(1, 224, 224, 3), dtype=np.float32)\n",
        "\n",
        "\n",
        "def preprocess_image(image):\n",
        "    \"\"\"\n",
        "    Preprocesar una imagen para que sea compatible con el modelo.\n",
        "    \"\"\"\n",
        "    size = (224, 224)\n",
        "    image = ImageOps.fit(image, size, Image.Resampling.LANCZOS)\n",
        "    image_array = np.asarray(image)\n",
        "    normalized_image_array = (image_array.astype(np.float32) / 127.5) - 1\n",
        "    data[0] = normalized_image_array\n",
        "    return data\n",
        "\n",
        "\n",
        "def predict_image(data):\n",
        "    \"\"\"\n",
        "    Realizar una predicción en la imagen preprocesada.\n",
        "    \"\"\"\n",
        "    prediction = model.predict(data)\n",
        "    index = np.argmax(prediction)\n",
        "    class_name = class_names[index]\n",
        "    confidence_score = prediction[0][index]\n",
        "    print(\"Clase:\", class_name[2:], end=\"\")\n",
        "    print(\"Confianza:\", confidence_score)\n",
        "\n",
        "\n",
        "def capture_with_webcam():\n",
        "    \"\"\"\n",
        "    Capturar una imagen usando la webcam.\n",
        "    \"\"\"\n",
        "    cap = cv2.VideoCapture(0)\n",
        "    if not cap.isOpened():\n",
        "        print(\"Error: No se pudo acceder a la cámara.\")\n",
        "        return\n",
        "\n",
        "    print(\"Presiona 's' para capturar la imagen o 'q' para salir.\")\n",
        "    while True:\n",
        "        ret, frame = cap.read()\n",
        "        if not ret:\n",
        "            print(\"Error: No se pudo capturar el cuadro de video.\")\n",
        "            break\n",
        "\n",
        "        cv2.imshow(\"Webcam - Presiona 's' para capturar\", frame)\n",
        "\n",
        "        # Esperar entrada del usuario\n",
        "        key = cv2.waitKey(1)\n",
        "        if key & 0xFF == ord('s'):  # Capturar imagen\n",
        "            image = Image.fromarray(cv2.cvtColor(frame, cv2.COLOR_BGR2RGB))\n",
        "            cap.release()\n",
        "            cv2.destroyAllWindows()\n",
        "            return image\n",
        "        elif key & 0xFF == ord('q'):  # Salir\n",
        "            cap.release()\n",
        "            cv2.destroyAllWindows()\n",
        "            return None\n",
        "\n",
        "\n",
        "def load_image_from_file():\n",
        "    \"\"\"\n",
        "    Abrir un cuadro de diálogo para seleccionar una imagen.\n",
        "    \"\"\"\n",
        "    root = Tk()\n",
        "    root.withdraw()\n",
        "    file_path = filedialog.askopenfilename(\n",
        "        title=\"Seleccionar una imagen\",\n",
        "        filetypes=[(\"Archivos de imagen\", \"*.jpg;*.jpeg;*.png;*.bmp\")]\n",
        "    )\n",
        "    if file_path:\n",
        "        return Image.open(file_path).convert(\"RGB\")\n",
        "    else:\n",
        "        print(\"No se seleccionó ninguna imagen.\")\n",
        "        return None\n",
        "\n",
        "\n",
        "# Menú principal\n",
        "print(\"Selecciona una opción:\")\n",
        "print(\"1. Subir una imagen\")\n",
        "print(\"2. Capturar con la webcam\")\n",
        "choice = input(\"Opción (1/2): \")\n",
        "\n",
        "if choice == \"1\":\n",
        "    image = load_image_from_file()\n",
        "elif choice == \"2\":\n",
        "    image = capture_with_webcam()\n",
        "else:\n",
        "    print(\"Opción no válida.\")\n",
        "    image = None\n",
        "\n",
        "if image:\n",
        "    data = preprocess_image(image)\n",
        "    predict_image(data)\n",
        "else:\n",
        "    print(\"No se procesó ninguna imagen.\")\n"
      ],
      "metadata": {
        "colab": {
          "base_uri": "https://localhost:8080/"
        },
        "id": "u-V5MEEJxqSf",
        "outputId": "c5392671-ca83-4404-b21d-7ee5a181e207"
      },
      "execution_count": null,
      "outputs": [
        {
          "output_type": "stream",
          "name": "stdout",
          "text": [
            "Selecciona una opción:\n",
            "1. Subir una imagen\n",
            "2. Capturar con la webcam\n",
            "Opción (1/2): 2\n",
            "Error: No se pudo acceder a la cámara.\n",
            "No se procesó ninguna imagen.\n"
          ]
        }
      ]
    },
    {
      "cell_type": "markdown",
      "source": [
        "Webcam"
      ],
      "metadata": {
        "id": "T1s9dC6cx5gA"
      }
    },
    {
      "cell_type": "code",
      "source": [
        "from keras.models import load_model  # TensorFlow is required for Keras to work\n",
        "import cv2  # Install opencv-python\n",
        "import numpy as np\n",
        "\n",
        "# Disable scientific notation for clarity\n",
        "np.set_printoptions(suppress=True)\n",
        "\n",
        "# Load the model\n",
        "model = load_model(\"keras_Model.h5\", compile=False)\n",
        "\n",
        "# Load the labels\n",
        "class_names = open(\"labels.txt\", \"r\").readlines()\n",
        "\n",
        "# CAMERA can be 0 or 1 based on default camera of your computer\n",
        "camera = cv2.VideoCapture(0)\n",
        "\n",
        "while True:\n",
        "    # Grab the webcamera's image.\n",
        "    ret, image = camera.read()\n",
        "\n",
        "    # Resize the raw image into (224-height,224-width) pixels\n",
        "    image = cv2.resize(image, (224, 224), interpolation=cv2.INTER_AREA)\n",
        "\n",
        "    # Show the image in a window\n",
        "    cv2.imshow(\"Webcam Image\", image)\n",
        "\n",
        "    # Make the image a numpy array and reshape it to the models input shape.\n",
        "    image = np.asarray(image, dtype=np.float32).reshape(1, 224, 224, 3)\n",
        "\n",
        "    # Normalize the image array\n",
        "    image = (image / 127.5) - 1\n",
        "\n",
        "    # Predicts the model\n",
        "    prediction = model.predict(image)\n",
        "    index = np.argmax(prediction)\n",
        "    class_name = class_names[index]\n",
        "    confidence_score = prediction[0][index]\n",
        "\n",
        "    # Print prediction and confidence score\n",
        "    print(\"Class:\", class_name[2:], end=\"\")\n",
        "    print(\"Confidence Score:\", str(np.round(confidence_score * 100))[:-2], \"%\")\n",
        "\n",
        "    # Listen to the keyboard for presses.\n",
        "    keyboard_input = cv2.waitKey(1)\n",
        "\n",
        "    # 27 is the ASCII for the esc key on your keyboard.\n",
        "    if keyboard_input == 27:\n",
        "        break\n",
        "\n",
        "camera.release()\n",
        "cv2.destroyAllWindows()\n"
      ],
      "metadata": {
        "colab": {
          "base_uri": "https://localhost:8080/",
          "height": 234
        },
        "id": "w8bE-kAlx7Fv",
        "outputId": "6b422c8e-da42-4277-d078-b917fdad6a57"
      },
      "execution_count": null,
      "outputs": [
        {
          "output_type": "error",
          "ename": "error",
          "evalue": "OpenCV(4.10.0) /io/opencv/modules/imgproc/src/resize.cpp:4152: error: (-215:Assertion failed) !ssize.empty() in function 'resize'\n",
          "traceback": [
            "\u001b[0;31m---------------------------------------------------------------------------\u001b[0m",
            "\u001b[0;31merror\u001b[0m                                     Traceback (most recent call last)",
            "\u001b[0;32m<ipython-input-17-fc789c8115d2>\u001b[0m in \u001b[0;36m<cell line: 17>\u001b[0;34m()\u001b[0m\n\u001b[1;32m     20\u001b[0m \u001b[0;34m\u001b[0m\u001b[0m\n\u001b[1;32m     21\u001b[0m     \u001b[0;31m# Resize the raw image into (224-height,224-width) pixels\u001b[0m\u001b[0;34m\u001b[0m\u001b[0;34m\u001b[0m\u001b[0m\n\u001b[0;32m---> 22\u001b[0;31m     \u001b[0mimage\u001b[0m \u001b[0;34m=\u001b[0m \u001b[0mcv2\u001b[0m\u001b[0;34m.\u001b[0m\u001b[0mresize\u001b[0m\u001b[0;34m(\u001b[0m\u001b[0mimage\u001b[0m\u001b[0;34m,\u001b[0m \u001b[0;34m(\u001b[0m\u001b[0;36m224\u001b[0m\u001b[0;34m,\u001b[0m \u001b[0;36m224\u001b[0m\u001b[0;34m)\u001b[0m\u001b[0;34m,\u001b[0m \u001b[0minterpolation\u001b[0m\u001b[0;34m=\u001b[0m\u001b[0mcv2\u001b[0m\u001b[0;34m.\u001b[0m\u001b[0mINTER_AREA\u001b[0m\u001b[0;34m)\u001b[0m\u001b[0;34m\u001b[0m\u001b[0;34m\u001b[0m\u001b[0m\n\u001b[0m\u001b[1;32m     23\u001b[0m \u001b[0;34m\u001b[0m\u001b[0m\n\u001b[1;32m     24\u001b[0m     \u001b[0;31m# Show the image in a window\u001b[0m\u001b[0;34m\u001b[0m\u001b[0;34m\u001b[0m\u001b[0m\n",
            "\u001b[0;31merror\u001b[0m: OpenCV(4.10.0) /io/opencv/modules/imgproc/src/resize.cpp:4152: error: (-215:Assertion failed) !ssize.empty() in function 'resize'\n"
          ]
        }
      ]
    },
    {
      "cell_type": "code",
      "source": [
        "from keras.models import load_model  # TensorFlow is required for Keras to work\n",
        "import cv2  # Install opencv-python\n",
        "import numpy as np\n",
        "\n",
        "# Disable scientific notation for clarity\n",
        "np.set_printoptions(suppress=True)\n",
        "\n",
        "# Load the model\n",
        "model = load_model(\"keras_Model.h5\", compile=False)\n",
        "\n",
        "# Load the labels\n",
        "class_names = open(\"labels.txt\", \"r\").readlines()\n",
        "\n",
        "# Initialize the camera (camera index could be 0 or 1 based on your system)\n",
        "camera = cv2.VideoCapture(0)\n",
        "\n",
        "# Check if the camera is opened correctly\n",
        "if not camera.isOpened():\n",
        "    print(\"Error: Could not open camera.\")\n",
        "    exit()\n",
        "\n",
        "while True:\n",
        "    # Grab a frame from the camera\n",
        "    ret, image = camera.read()\n",
        "\n",
        "    if not ret:\n",
        "        print(\"Error: Failed to capture image\")\n",
        "        break\n",
        "\n",
        "    # Resize the captured image to 224x224 pixels\n",
        "    image_resized = cv2.resize(image, (224, 224), interpolation=cv2.INTER_AREA)\n",
        "\n",
        "    # Show the resized image in a window\n",
        "    cv2.imshow(\"Webcam Image\", image_resized)\n",
        "\n",
        "    # Convert the image to a numpy array and reshape to match model input shape\n",
        "    image_array = np.asarray(image_resized, dtype=np.float32).reshape(1, 224, 224, 3)\n",
        "\n",
        "    # Normalize the image\n",
        "    image_array = (image_array / 127.5) - 1\n",
        "\n",
        "    # Predict the class with the model\n",
        "    prediction = model.predict(image_array)\n",
        "    index = np.argmax(prediction)\n",
        "    class_name = class_names[index].strip()  # Strip newlines or spaces from label\n",
        "    confidence_score = prediction[0][index]\n",
        "\n",
        "    # Print the predicted class and confidence score\n",
        "    print(\"Class:\", class_name)\n",
        "    print(\"Confidence Score:\", str(np.round(confidence_score * 100))[:-2], \"%\")\n",
        "\n",
        "    # Wait for key press, and break the loop if 'Esc' is pressed (ASCII 27)\n",
        "    keyboard_input = cv2.waitKey(1)\n",
        "\n",
        "    if keyboard_input == 27:  # Esc key pressed\n",
        "        print(\"Exiting...\")\n",
        "        break\n",
        "\n",
        "# Release the camera and close OpenCV windows\n",
        "camera.release()\n",
        "cv2.destroyAllWindows()\n"
      ],
      "metadata": {
        "colab": {
          "base_uri": "https://localhost:8080/",
          "height": 343
        },
        "id": "-viK76bTyYe-",
        "outputId": "464eb73e-79cf-47a3-f947-840968d20e9f"
      },
      "execution_count": null,
      "outputs": [
        {
          "output_type": "stream",
          "name": "stderr",
          "text": [
            "/usr/local/lib/python3.10/dist-packages/keras/src/layers/core/dense.py:87: UserWarning: Do not pass an `input_shape`/`input_dim` argument to a layer. When using Sequential models, prefer using an `Input(shape)` object as the first layer in the model instead.\n",
            "  super().__init__(activity_regularizer=activity_regularizer, **kwargs)\n"
          ]
        },
        {
          "output_type": "stream",
          "name": "stdout",
          "text": [
            "Error: Could not open camera.\n",
            "Error: Failed to capture image\n"
          ]
        },
        {
          "output_type": "error",
          "ename": "error",
          "evalue": "OpenCV(4.10.0) /io/opencv/modules/highgui/src/window.cpp:1295: error: (-2:Unspecified error) The function is not implemented. Rebuild the library with Windows, GTK+ 2.x or Cocoa support. If you are on Ubuntu or Debian, install libgtk2.0-dev and pkg-config, then re-run cmake or configure script in function 'cvDestroyAllWindows'\n",
          "traceback": [
            "\u001b[0;31m---------------------------------------------------------------------------\u001b[0m",
            "\u001b[0;31merror\u001b[0m                                     Traceback (most recent call last)",
            "\u001b[0;32m<ipython-input-1-bbbafa7a6f7b>\u001b[0m in \u001b[0;36m<cell line: 61>\u001b[0;34m()\u001b[0m\n\u001b[1;32m     59\u001b[0m \u001b[0;31m# Release the camera and close OpenCV windows\u001b[0m\u001b[0;34m\u001b[0m\u001b[0;34m\u001b[0m\u001b[0m\n\u001b[1;32m     60\u001b[0m \u001b[0mcamera\u001b[0m\u001b[0;34m.\u001b[0m\u001b[0mrelease\u001b[0m\u001b[0;34m(\u001b[0m\u001b[0;34m)\u001b[0m\u001b[0;34m\u001b[0m\u001b[0;34m\u001b[0m\u001b[0m\n\u001b[0;32m---> 61\u001b[0;31m \u001b[0mcv2\u001b[0m\u001b[0;34m.\u001b[0m\u001b[0mdestroyAllWindows\u001b[0m\u001b[0;34m(\u001b[0m\u001b[0;34m)\u001b[0m\u001b[0;34m\u001b[0m\u001b[0;34m\u001b[0m\u001b[0m\n\u001b[0m",
            "\u001b[0;31merror\u001b[0m: OpenCV(4.10.0) /io/opencv/modules/highgui/src/window.cpp:1295: error: (-2:Unspecified error) The function is not implemented. Rebuild the library with Windows, GTK+ 2.x or Cocoa support. If you are on Ubuntu or Debian, install libgtk2.0-dev and pkg-config, then re-run cmake or configure script in function 'cvDestroyAllWindows'\n"
          ]
        }
      ]
    }
  ]
}